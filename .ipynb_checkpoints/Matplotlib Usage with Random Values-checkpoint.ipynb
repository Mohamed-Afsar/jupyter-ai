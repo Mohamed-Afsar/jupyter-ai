{
 "cells": [
  {
   "cell_type": "markdown",
   "id": "d1fecb3b",
   "metadata": {},
   "source": [
    "# Matplotlib Usage with Random Values"
   ]
  },
  {
   "cell_type": "markdown",
   "id": "4edcd571",
   "metadata": {},
   "source": [
    "## Introduction"
   ]
  },
  {
   "cell_type": "markdown",
   "id": "eb5604be",
   "metadata": {},
   "source": [
    "This notebook was created by [Jupyter AI](https://github.com/jupyterlab/jupyter-ai) with the following prompt:\n",
    "\n",
    "> /generate A demo notebook on Matplotlib usage in Python. Use random values."
   ]
  },
  {
   "cell_type": "markdown",
   "id": "ca4c7e17",
   "metadata": {},
   "source": [
    "This Jupyter notebook provides a demonstration of how to use Matplotlib in Python. It covers various types of plots, including line plots, scatter plots, bar plots, histograms, and pie charts. The notebook also includes an introduction to Matplotlib and uses random values for data visualization."
   ]
  },
  {
   "cell_type": "markdown",
   "id": "ed677840",
   "metadata": {},
   "source": [
    "## Section 2"
   ]
  },
  {
   "cell_type": "code",
   "execution_count": null,
   "id": "3bd07704",
   "metadata": {},
   "outputs": [],
   "source": [
    "import matplotlib.pyplot as plt\n",
    "import numpy as np"
   ]
  },
  {
   "cell_type": "code",
   "execution_count": null,
   "id": "584acec1",
   "metadata": {},
   "outputs": [],
   "source": [
    "x = np.random.randint(1, 10, 10)\n",
    "y = np.random.randint(1, 10, 10)"
   ]
  },
  {
   "cell_type": "code",
   "execution_count": null,
   "id": "d3256659",
   "metadata": {},
   "outputs": [],
   "source": [
    "plt.plot(x, y)\n",
    "plt.xlabel('X-axis')\n",
    "plt.ylabel('Y-axis')\n",
    "plt.title('Line Plot')\n",
    "plt.show()"
   ]
  },
  {
   "cell_type": "markdown",
   "id": "52bf8a1f",
   "metadata": {},
   "source": [
    "## Section 3"
   ]
  },
  {
   "cell_type": "code",
   "execution_count": null,
   "id": "a5247eb5",
   "metadata": {},
   "outputs": [],
   "source": [
    "import matplotlib.pyplot as plt\n",
    "import numpy as np"
   ]
  },
  {
   "cell_type": "code",
   "execution_count": null,
   "id": "8ed72950",
   "metadata": {},
   "outputs": [],
   "source": [
    "np.random.seed(42)\n",
    "x = np.random.rand(50)\n",
    "y = np.random.rand(50)\n",
    "colors = np.random.rand(50)\n",
    "sizes = np.random.randint(10, 100, 50)"
   ]
  },
  {
   "cell_type": "code",
   "execution_count": null,
   "id": "88429d4a",
   "metadata": {},
   "outputs": [],
   "source": [
    "plt.scatter(x, y, c=colors, s=sizes, alpha=0.5)\n",
    "plt.xlabel('X')\n",
    "plt.ylabel('Y')\n",
    "plt.title('Scatter Plot')\n",
    "plt.show()"
   ]
  },
  {
   "cell_type": "markdown",
   "id": "0d159f74",
   "metadata": {},
   "source": [
    "## Section 4"
   ]
  },
  {
   "cell_type": "code",
   "execution_count": null,
   "id": "8a4b3d42",
   "metadata": {},
   "outputs": [],
   "source": [
    "import matplotlib.pyplot as plt\n",
    "import numpy as np"
   ]
  },
  {
   "cell_type": "code",
   "execution_count": null,
   "id": "444e44d7",
   "metadata": {},
   "outputs": [],
   "source": [
    "categories = ['Category 1', 'Category 2', 'Category 3', 'Category 4']\n",
    "values = np.random.randint(0, 100, size=len(categories))"
   ]
  },
  {
   "cell_type": "code",
   "execution_count": null,
   "id": "3b3ca80b",
   "metadata": {},
   "outputs": [],
   "source": [
    "plt.bar(categories, values)\n",
    "plt.xlabel('Categories')\n",
    "plt.ylabel('Values')\n",
    "plt.title('Bar Plot')\n",
    "plt.show()"
   ]
  },
  {
   "cell_type": "markdown",
   "id": "4053a803",
   "metadata": {},
   "source": [
    "## Section 5"
   ]
  },
  {
   "cell_type": "code",
   "execution_count": null,
   "id": "0c41475e",
   "metadata": {},
   "outputs": [],
   "source": [
    "import matplotlib.pyplot as plt\n",
    "import numpy as np"
   ]
  },
  {
   "cell_type": "code",
   "execution_count": null,
   "id": "347513ed",
   "metadata": {},
   "outputs": [],
   "source": [
    "data = np.random.normal(0, 1, 1000)"
   ]
  },
  {
   "cell_type": "code",
   "execution_count": null,
   "id": "1d2d94a9",
   "metadata": {},
   "outputs": [],
   "source": [
    "plt.hist(data, bins=30, edgecolor='black')\n",
    "plt.xlabel('Values')\n",
    "plt.ylabel('Frequency')\n",
    "plt.title('Histogram of Random Data')"
   ]
  },
  {
   "cell_type": "code",
   "execution_count": null,
   "id": "283c9a05",
   "metadata": {},
   "outputs": [],
   "source": [
    "plt.show()"
   ]
  },
  {
   "cell_type": "markdown",
   "id": "d9d35a14",
   "metadata": {},
   "source": [
    "## Section 6"
   ]
  },
  {
   "cell_type": "code",
   "execution_count": null,
   "id": "4ab4746d",
   "metadata": {},
   "outputs": [],
   "source": [
    "import matplotlib.pyplot as plt\n",
    "import numpy as np"
   ]
  },
  {
   "cell_type": "code",
   "execution_count": null,
   "id": "a42ce319",
   "metadata": {},
   "outputs": [],
   "source": [
    "categories = ['Category 1', 'Category 2', 'Category 3', 'Category 4', 'Category 5']\n",
    "values = np.random.randint(1, 10, len(categories))"
   ]
  },
  {
   "cell_type": "code",
   "execution_count": null,
   "id": "e7924d4b",
   "metadata": {},
   "outputs": [],
   "source": [
    "plt.figure(figsize=(6, 6))\n",
    "plt.pie(values, labels=categories, autopct='%1.1f%%', startangle=90)"
   ]
  },
  {
   "cell_type": "code",
   "execution_count": null,
   "id": "fbdd6592",
   "metadata": {},
   "outputs": [],
   "source": [
    "plt.title('Distribution of Categories')\n",
    "plt.axis('equal')"
   ]
  },
  {
   "cell_type": "code",
   "execution_count": null,
   "id": "365f0b15",
   "metadata": {},
   "outputs": [],
   "source": [
    "plt.show()"
   ]
  }
 ],
 "metadata": {
  "kernelspec": {
   "display_name": "Python 3 (ipykernel)",
   "language": "python",
   "name": "python3"
  },
  "language_info": {
   "codemirror_mode": {
    "name": "ipython",
    "version": 3
   },
   "file_extension": ".py",
   "mimetype": "text/x-python",
   "name": "python",
   "nbconvert_exporter": "python",
   "pygments_lexer": "ipython3",
   "version": "3.11.6"
  }
 },
 "nbformat": 4,
 "nbformat_minor": 5
}
