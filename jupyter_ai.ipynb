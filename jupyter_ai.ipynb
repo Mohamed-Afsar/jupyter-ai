{
 "cells": [
  {
   "cell_type": "code",
   "execution_count": 1,
   "id": "6050f5b4-54bf-4120-8c6c-3194d8b98c68",
   "metadata": {},
   "outputs": [],
   "source": [
    "def fibonacci_recursive(n):\n",
    "    if n <= 0:\n",
    "        return []\n",
    "    elif n == 1:\n",
    "        return [0]\n",
    "    elif n == 2:\n",
    "        return [0, 1]\n",
    "    else:\n",
    "        fib_series = fibonacci_recursive(n - 1)\n",
    "        fib_series.append(fib_series[-1] + fib_series[-2])\n",
    "        return fib_series"
   ]
  },
  {
   "cell_type": "code",
   "execution_count": 2,
   "id": "91fcb686-5754-4090-81a1-9d94965edebe",
   "metadata": {},
   "outputs": [
    {
     "data": {
      "text/plain": [
       "[0, 1, 1, 2, 3, 5, 8, 13, 21, 34]"
      ]
     },
     "execution_count": 2,
     "metadata": {},
     "output_type": "execute_result"
    }
   ],
   "source": [
    "fibonacci_recursive(10)"
   ]
  },
  {
   "cell_type": "code",
   "execution_count": 6,
   "id": "596eac5e-6dd8-4d75-8960-206f0cb6d96f",
   "metadata": {},
   "outputs": [],
   "source": [
    "def fibonacci_recursive(n):\n",
    "    # Base cases:\n",
    "    if n <= 0:\n",
    "        return []  # Return an empty list if n is less than or equal to 0\n",
    "    elif n == 1:\n",
    "        return [0]  # Return [0] if n is 1\n",
    "    elif n == 2:\n",
    "        return [0, 1]  # Return [0, 1] if n is 2\n",
    "    else:\n",
    "        # Recursive case:\n",
    "        fib_series = fibonacci_recursive(n - 1)  # Recursively obtain the Fibonacci series for n-1\n",
    "        fib_series.append(fib_series[-1] + fib_series[-2])  # Append the sum of the last two numbers in the series\n",
    "        return fib_series  # Return the Fibonacci series"
   ]
  },
  {
   "cell_type": "markdown",
   "id": "d5795835-1f3b-404f-968b-3d518da19101",
   "metadata": {},
   "source": [
    "#### Python function that implements linear regression using gradient descent."
   ]
  },
  {
   "cell_type": "code",
   "execution_count": 4,
   "id": "326d33f0-a1b1-4fbb-9f70-cee5ec1f2f77",
   "metadata": {},
   "outputs": [],
   "source": [
    "def linear_regression_gradient_descent(X, y, learning_rate, num_iterations):\n",
    "    m = len(y)\n",
    "    theta = [0, 0]\n",
    "    \n",
    "    for iteration in range(num_iterations):\n",
    "        gradient = [0, 0]\n",
    "        for i in range(m):\n",
    "            prediction = theta[0] + theta[1] * X[i]\n",
    "            error = prediction - y[i]\n",
    "            gradient[0] += error\n",
    "            gradient[1] += error * X[i]\n",
    "        \n",
    "        gradient[0] = (1 / m) * gradient[0]\n",
    "        gradient[1] = (1 / m) * gradient[1]\n",
    "        \n",
    "        theta[0] = theta[0] - learning_rate * gradient[0]\n",
    "        theta[1] = theta[1] - learning_rate * gradient[1]\n",
    "    \n",
    "    return theta"
   ]
  },
  {
   "cell_type": "code",
   "execution_count": null,
   "id": "db36a6c4-c963-4a51-9943-878382a3daaa",
   "metadata": {},
   "outputs": [],
   "source": []
  }
 ],
 "metadata": {
  "kernelspec": {
   "display_name": "Python 3 (ipykernel)",
   "language": "python",
   "name": "python3"
  },
  "language_info": {
   "codemirror_mode": {
    "name": "ipython",
    "version": 3
   },
   "file_extension": ".py",
   "mimetype": "text/x-python",
   "name": "python",
   "nbconvert_exporter": "python",
   "pygments_lexer": "ipython3",
   "version": "3.11.6"
  }
 },
 "nbformat": 4,
 "nbformat_minor": 5
}
